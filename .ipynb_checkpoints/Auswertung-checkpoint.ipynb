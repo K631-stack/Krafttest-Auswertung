{
 "cells": [
  {
   "cell_type": "markdown",
   "metadata": {},
   "source": [
    "# Generate plots from power data for different tests\n"
   ]
  },
  {
   "cell_type": "markdown",
   "metadata": {},
   "source": [
    "### Imports"
   ]
  },
  {
   "cell_type": "code",
   "execution_count": 8,
   "metadata": {},
   "outputs": [],
   "source": [
    "import PlotData\n",
    "import ProcessData\n",
    "import ImportData"
   ]
  },
  {
   "cell_type": "markdown",
   "metadata": {},
   "source": [
    "### Specify parameters\n",
    "PLOT_TYPE = 'grid' or 'separate'\n",
    "DATA_SOURCE = 'new' or 'old\n",
    "MODE = 'absolute' or 'relative\n",
    "PEOPLE_TO_PLOT add names of people to plot to list - empty lists plots all people"
   ]
  },
  {
   "cell_type": "code",
   "execution_count": 9,
   "metadata": {},
   "outputs": [],
   "source": [
    "DATA_SOURCE = 'old'\n",
    "MODE = 'absolute'\n",
    "PEOPLE_TO_PLOT = ['Fabi']\n",
    "PLOT_DIR = 'Plots'\n",
    "PLOT_TYPE = 'grid'"
   ]
  },
  {
   "cell_type": "markdown",
   "metadata": {},
   "source": [
    "#### Import raw strength measurements from different tests\n",
    "Not needed if datasource is 'old'"
   ]
  },
  {
   "cell_type": "code",
   "execution_count": 10,
   "metadata": {},
   "outputs": [],
   "source": [
    "imported_data = ImportData.read_files()"
   ]
  },
  {
   "cell_type": "code",
   "execution_count": 11,
   "metadata": {},
   "outputs": [
    {
     "data": {
      "text/html": [
       "<div>\n",
       "<style scoped>\n",
       "    .dataframe tbody tr th:only-of-type {\n",
       "        vertical-align: middle;\n",
       "    }\n",
       "\n",
       "    .dataframe tbody tr th {\n",
       "        vertical-align: top;\n",
       "    }\n",
       "\n",
       "    .dataframe thead th {\n",
       "        text-align: right;\n",
       "    }\n",
       "</style>\n",
       "<table border=\"1\" class=\"dataframe\">\n",
       "  <thead>\n",
       "    <tr style=\"text-align: right;\">\n",
       "      <th></th>\n",
       "      <th>date</th>\n",
       "      <th>tag</th>\n",
       "      <th>comment</th>\n",
       "      <th>unit</th>\n",
       "      <th>max</th>\n",
       "      <th>avg</th>\n",
       "      <th>duration</th>\n",
       "    </tr>\n",
       "  </thead>\n",
       "  <tbody>\n",
       "    <tr>\n",
       "      <th>0</th>\n",
       "      <td>2020-01-08 16:59:00</td>\n",
       "      <td>Alex R 90</td>\n",
       "      <td>73.7</td>\n",
       "      <td>SI</td>\n",
       "      <td>76.10028028488159</td>\n",
       "      <td>60.791628811094505</td>\n",
       "      <td>7</td>\n",
       "    </tr>\n",
       "    <tr>\n",
       "      <th>1</th>\n",
       "      <td>2020-01-08 17:00:00</td>\n",
       "      <td>Alex L 90</td>\n",
       "      <td>73.7</td>\n",
       "      <td>SI</td>\n",
       "      <td>72.51570701599121</td>\n",
       "      <td>61.82813474867078</td>\n",
       "      <td>7</td>\n",
       "    </tr>\n",
       "    <tr>\n",
       "      <th>2</th>\n",
       "      <td>2020-01-08 17:01:00</td>\n",
       "      <td>Lele R 90</td>\n",
       "      <td>59.1</td>\n",
       "      <td>SI</td>\n",
       "      <td>68.09649562835693</td>\n",
       "      <td>60.02351540989345</td>\n",
       "      <td>7</td>\n",
       "    </tr>\n",
       "    <tr>\n",
       "      <th>3</th>\n",
       "      <td>2020-01-08 17:02:00</td>\n",
       "      <td>Lele L 90</td>\n",
       "      <td>59.1</td>\n",
       "      <td>SI</td>\n",
       "      <td>72.11809301376343</td>\n",
       "      <td>63.378993842336875</td>\n",
       "      <td>7</td>\n",
       "    </tr>\n",
       "    <tr>\n",
       "      <th>4</th>\n",
       "      <td>2020-01-08 17:03:00</td>\n",
       "      <td>Fabi L 90</td>\n",
       "      <td>67.3</td>\n",
       "      <td>SI</td>\n",
       "      <td>78.8911280632019</td>\n",
       "      <td>67.78806755277844</td>\n",
       "      <td>7</td>\n",
       "    </tr>\n",
       "  </tbody>\n",
       "</table>\n",
       "</div>"
      ],
      "text/plain": [
       "                  date         tag comment unit                max  \\\n",
       "0  2020-01-08 16:59:00  Alex R 90     73.7   SI  76.10028028488159   \n",
       "1  2020-01-08 17:00:00   Alex L 90    73.7   SI  72.51570701599121   \n",
       "2  2020-01-08 17:01:00   Lele R 90    59.1   SI  68.09649562835693   \n",
       "3  2020-01-08 17:02:00   Lele L 90    59.1   SI  72.11809301376343   \n",
       "4  2020-01-08 17:03:00   Fabi L 90    67.3   SI   78.8911280632019   \n",
       "\n",
       "                  avg duration  \n",
       "0  60.791628811094505        7  \n",
       "1   61.82813474867078        7  \n",
       "2   60.02351540989345        7  \n",
       "3  63.378993842336875        7  \n",
       "4   67.78806755277844        7  "
      ]
     },
     "execution_count": 11,
     "metadata": {},
     "output_type": "execute_result"
    }
   ],
   "source": [
    "imported_data.head(5)"
   ]
  },
  {
   "cell_type": "markdown",
   "metadata": {},
   "source": [
    "#### Clean data to have a dataframe of tests for every person"
   ]
  },
  {
   "cell_type": "code",
   "execution_count": 5,
   "metadata": {},
   "outputs": [],
   "source": [
    "processed_data = ProcessData.process_data(imported_data,  PEOPLE_TO_PLOT, DATA_SOURCE, MODE)"
   ]
  },
  {
   "cell_type": "code",
   "execution_count": 6,
   "metadata": {},
   "outputs": [
    {
     "data": {
      "text/plain": [
       "dict_keys(['Lele'])"
      ]
     },
     "execution_count": 6,
     "metadata": {},
     "output_type": "execute_result"
    }
   ],
   "source": [
    "processed_data.keys()\n",
    "processed_data['Fabi']"
   ]
  },
  {
   "cell_type": "markdown",
   "metadata": {},
   "source": [
    "#### Create plots for all specified people"
   ]
  },
  {
   "cell_type": "code",
   "execution_count": 7,
   "metadata": {},
   "outputs": [
    {
     "name": "stdout",
     "output_type": "stream",
     "text": [
      "plotting Lele\n"
     ]
    }
   ],
   "source": [
    "PlotData.plot_data(processed_data, PLOT_TYPE, PLOT_DIR)"
   ]
  },
  {
   "cell_type": "markdown",
   "metadata": {},
   "source": []
  }
 ],
 "metadata": {
  "kernelspec": {
   "display_name": "Python 3 (ipykernel)",
   "language": "python",
   "name": "python3"
  },
  "language_info": {
   "codemirror_mode": {
    "name": "ipython",
    "version": 3
   },
   "file_extension": ".py",
   "mimetype": "text/x-python",
   "name": "python",
   "nbconvert_exporter": "python",
   "pygments_lexer": "ipython3",
   "version": "3.8.10"
  }
 },
 "nbformat": 4,
 "nbformat_minor": 1
}
